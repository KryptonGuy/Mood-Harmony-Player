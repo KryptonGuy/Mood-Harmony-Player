{
 "cells": [
  {
   "cell_type": "code",
   "execution_count": 30,
   "metadata": {},
   "outputs": [],
   "source": [
    "import pandas as pd\n",
    "import numpy as np\n",
    "\n",
    "df = pd.read_csv(\"muse_dataset.csv\")"
   ]
  },
  {
   "cell_type": "code",
   "execution_count": 31,
   "metadata": {},
   "outputs": [
    {
     "data": {
      "text/plain": [
       "(90408, 8)"
      ]
     },
     "execution_count": 31,
     "metadata": {},
     "output_type": "execute_result"
    }
   ],
   "source": [
    "df.shape"
   ]
  },
  {
   "cell_type": "code",
   "execution_count": 32,
   "metadata": {},
   "outputs": [
    {
     "data": {
      "text/html": [
       "<div>\n",
       "<style scoped>\n",
       "    .dataframe tbody tr th:only-of-type {\n",
       "        vertical-align: middle;\n",
       "    }\n",
       "\n",
       "    .dataframe tbody tr th {\n",
       "        vertical-align: top;\n",
       "    }\n",
       "\n",
       "    .dataframe thead th {\n",
       "        text-align: right;\n",
       "    }\n",
       "</style>\n",
       "<table border=\"1\" class=\"dataframe\">\n",
       "  <thead>\n",
       "    <tr style=\"text-align: right;\">\n",
       "      <th></th>\n",
       "      <th>id</th>\n",
       "      <th>track</th>\n",
       "      <th>artist</th>\n",
       "      <th>valence_tags</th>\n",
       "      <th>arousal_tags</th>\n",
       "      <th>dominance_tags</th>\n",
       "      <th>mbid</th>\n",
       "      <th>spotify_id</th>\n",
       "    </tr>\n",
       "  </thead>\n",
       "  <tbody>\n",
       "    <tr>\n",
       "      <th>0</th>\n",
       "      <td>False</td>\n",
       "      <td>False</td>\n",
       "      <td>False</td>\n",
       "      <td>False</td>\n",
       "      <td>False</td>\n",
       "      <td>False</td>\n",
       "      <td>False</td>\n",
       "      <td>False</td>\n",
       "    </tr>\n",
       "    <tr>\n",
       "      <th>1</th>\n",
       "      <td>False</td>\n",
       "      <td>False</td>\n",
       "      <td>False</td>\n",
       "      <td>False</td>\n",
       "      <td>False</td>\n",
       "      <td>False</td>\n",
       "      <td>False</td>\n",
       "      <td>False</td>\n",
       "    </tr>\n",
       "    <tr>\n",
       "      <th>2</th>\n",
       "      <td>False</td>\n",
       "      <td>False</td>\n",
       "      <td>False</td>\n",
       "      <td>False</td>\n",
       "      <td>False</td>\n",
       "      <td>False</td>\n",
       "      <td>True</td>\n",
       "      <td>False</td>\n",
       "    </tr>\n",
       "    <tr>\n",
       "      <th>3</th>\n",
       "      <td>False</td>\n",
       "      <td>False</td>\n",
       "      <td>False</td>\n",
       "      <td>False</td>\n",
       "      <td>False</td>\n",
       "      <td>False</td>\n",
       "      <td>False</td>\n",
       "      <td>False</td>\n",
       "    </tr>\n",
       "    <tr>\n",
       "      <th>4</th>\n",
       "      <td>False</td>\n",
       "      <td>False</td>\n",
       "      <td>False</td>\n",
       "      <td>False</td>\n",
       "      <td>False</td>\n",
       "      <td>False</td>\n",
       "      <td>False</td>\n",
       "      <td>False</td>\n",
       "    </tr>\n",
       "    <tr>\n",
       "      <th>...</th>\n",
       "      <td>...</td>\n",
       "      <td>...</td>\n",
       "      <td>...</td>\n",
       "      <td>...</td>\n",
       "      <td>...</td>\n",
       "      <td>...</td>\n",
       "      <td>...</td>\n",
       "      <td>...</td>\n",
       "    </tr>\n",
       "    <tr>\n",
       "      <th>90403</th>\n",
       "      <td>False</td>\n",
       "      <td>False</td>\n",
       "      <td>False</td>\n",
       "      <td>False</td>\n",
       "      <td>False</td>\n",
       "      <td>False</td>\n",
       "      <td>True</td>\n",
       "      <td>True</td>\n",
       "    </tr>\n",
       "    <tr>\n",
       "      <th>90404</th>\n",
       "      <td>False</td>\n",
       "      <td>False</td>\n",
       "      <td>False</td>\n",
       "      <td>False</td>\n",
       "      <td>False</td>\n",
       "      <td>False</td>\n",
       "      <td>True</td>\n",
       "      <td>True</td>\n",
       "    </tr>\n",
       "    <tr>\n",
       "      <th>90405</th>\n",
       "      <td>False</td>\n",
       "      <td>False</td>\n",
       "      <td>False</td>\n",
       "      <td>False</td>\n",
       "      <td>False</td>\n",
       "      <td>False</td>\n",
       "      <td>True</td>\n",
       "      <td>True</td>\n",
       "    </tr>\n",
       "    <tr>\n",
       "      <th>90406</th>\n",
       "      <td>False</td>\n",
       "      <td>False</td>\n",
       "      <td>False</td>\n",
       "      <td>False</td>\n",
       "      <td>False</td>\n",
       "      <td>False</td>\n",
       "      <td>True</td>\n",
       "      <td>True</td>\n",
       "    </tr>\n",
       "    <tr>\n",
       "      <th>90407</th>\n",
       "      <td>False</td>\n",
       "      <td>False</td>\n",
       "      <td>False</td>\n",
       "      <td>False</td>\n",
       "      <td>False</td>\n",
       "      <td>False</td>\n",
       "      <td>False</td>\n",
       "      <td>False</td>\n",
       "    </tr>\n",
       "  </tbody>\n",
       "</table>\n",
       "<p>90408 rows × 8 columns</p>\n",
       "</div>"
      ],
      "text/plain": [
       "          id  track  artist  valence_tags  arousal_tags  dominance_tags  \\\n",
       "0      False  False   False         False         False           False   \n",
       "1      False  False   False         False         False           False   \n",
       "2      False  False   False         False         False           False   \n",
       "3      False  False   False         False         False           False   \n",
       "4      False  False   False         False         False           False   \n",
       "...      ...    ...     ...           ...           ...             ...   \n",
       "90403  False  False   False         False         False           False   \n",
       "90404  False  False   False         False         False           False   \n",
       "90405  False  False   False         False         False           False   \n",
       "90406  False  False   False         False         False           False   \n",
       "90407  False  False   False         False         False           False   \n",
       "\n",
       "        mbid  spotify_id  \n",
       "0      False       False  \n",
       "1      False       False  \n",
       "2       True       False  \n",
       "3      False       False  \n",
       "4      False       False  \n",
       "...      ...         ...  \n",
       "90403   True        True  \n",
       "90404   True        True  \n",
       "90405   True        True  \n",
       "90406   True        True  \n",
       "90407  False       False  \n",
       "\n",
       "[90408 rows x 8 columns]"
      ]
     },
     "execution_count": 32,
     "metadata": {},
     "output_type": "execute_result"
    }
   ],
   "source": [
    "df.isnull()"
   ]
  },
  {
   "cell_type": "code",
   "execution_count": 33,
   "metadata": {},
   "outputs": [
    {
     "data": {
      "text/plain": [
       "array([[0, \"'Till I Collapse\", 'Eminem', ..., 5.273124999999999,\n",
       "        5.690625, 'cab93def-26c5-4fb0-bedd-26ec4c1619e1'],\n",
       "       [1, 'St. Anger', 'Metallica', ..., 5.832999999999999,\n",
       "        5.427250000000002, '727a2529-7ee8-4860-aef6-7959884895cb'],\n",
       "       [2, \"Speedin'\", 'Rick Ross', ..., 5.87, 5.49, nan],\n",
       "       ...,\n",
       "       [90405, 'Crookfield Zoo', 'Ace White', ..., 3.45, 5.33, nan],\n",
       "       [90406, 'Transparent (Full Version)', 'Second Chyld', ..., 3.45,\n",
       "        5.33, nan],\n",
       "       [90407, 'Unfold', 'Message To Bears', ..., 1.405, 3.5,\n",
       "        '247179b0-af1f-4c2b-b4fe-751070d1c0cc']], dtype=object)"
      ]
     },
     "execution_count": 33,
     "metadata": {},
     "output_type": "execute_result"
    }
   ],
   "source": [
    "df.iloc[:,:-1].values  "
   ]
  },
  {
   "cell_type": "code",
   "execution_count": 34,
   "metadata": {},
   "outputs": [
    {
     "data": {
      "text/plain": [
       "array([4.55, 3.71, 3.08, ..., 5.37, 5.37, 3.34])"
      ]
     },
     "execution_count": 34,
     "metadata": {},
     "output_type": "execute_result"
    }
   ],
   "source": [
    "df.iloc[:,3].values  "
   ]
  },
  {
   "cell_type": "code",
   "execution_count": 35,
   "metadata": {},
   "outputs": [
    {
     "data": {
      "text/plain": [
       "id                    0\n",
       "track                 0\n",
       "artist                0\n",
       "valence_tags          0\n",
       "arousal_tags          0\n",
       "dominance_tags        0\n",
       "mbid              28784\n",
       "spotify_id        28506\n",
       "dtype: int64"
      ]
     },
     "execution_count": 35,
     "metadata": {},
     "output_type": "execute_result"
    }
   ],
   "source": [
    "df.isnull().sum()"
   ]
  },
  {
   "cell_type": "code",
   "execution_count": 36,
   "metadata": {},
   "outputs": [],
   "source": [
    "df.drop(columns=['mbid'], inplace=True)"
   ]
  },
  {
   "cell_type": "code",
   "execution_count": 37,
   "metadata": {},
   "outputs": [
    {
     "data": {
      "text/plain": [
       "id                    0\n",
       "track                 0\n",
       "artist                0\n",
       "valence_tags          0\n",
       "arousal_tags          0\n",
       "dominance_tags        0\n",
       "spotify_id        28506\n",
       "dtype: int64"
      ]
     },
     "execution_count": 37,
     "metadata": {},
     "output_type": "execute_result"
    }
   ],
   "source": [
    "df.isnull().sum()"
   ]
  },
  {
   "cell_type": "code",
   "execution_count": 38,
   "metadata": {},
   "outputs": [],
   "source": [
    "df.dropna(inplace=True)"
   ]
  },
  {
   "cell_type": "code",
   "execution_count": 39,
   "metadata": {},
   "outputs": [
    {
     "data": {
      "text/plain": [
       "id                0\n",
       "track             0\n",
       "artist            0\n",
       "valence_tags      0\n",
       "arousal_tags      0\n",
       "dominance_tags    0\n",
       "spotify_id        0\n",
       "dtype: int64"
      ]
     },
     "execution_count": 39,
     "metadata": {},
     "output_type": "execute_result"
    }
   ],
   "source": [
    "df.isnull().sum()"
   ]
  },
  {
   "cell_type": "code",
   "execution_count": 40,
   "metadata": {},
   "outputs": [
    {
     "data": {
      "text/plain": [
       "(61902, 7)"
      ]
     },
     "execution_count": 40,
     "metadata": {},
     "output_type": "execute_result"
    }
   ],
   "source": [
    "df.shape"
   ]
  },
  {
   "cell_type": "code",
   "execution_count": 41,
   "metadata": {},
   "outputs": [
    {
     "data": {
      "text/plain": [
       "<bound method NDFrame.head of           id                             track                       artist  \\\n",
       "0          0                  'Till I Collapse                       Eminem   \n",
       "1          1                         St. Anger                    Metallica   \n",
       "2          2                          Speedin'                    Rick Ross   \n",
       "3          3                      Bamboo Banga                       M.I.A.   \n",
       "4          4                        Die MF Die                         Dope   \n",
       "...      ...                               ...                          ...   \n",
       "90391  90391  The Last of the Rest Was the End                  Medications   \n",
       "90392  90392                         Lovechild                Daniel Lanois   \n",
       "90397  90397                       Last Inhale                       Tapage   \n",
       "90401  90401               the dead flag blues  Godspeed You Black Emperor!   \n",
       "90407  90407                            Unfold             Message To Bears   \n",
       "\n",
       "       valence_tags  arousal_tags  dominance_tags              spotify_id  \n",
       "0          4.550000      5.273125        5.690625  4xkOaSrkexMciUUogZKVTS  \n",
       "1          3.710000      5.833000        5.427250  3fOc9x06lKJBhz435mInlH  \n",
       "2          3.080000      5.870000        5.490000  3Y96xd4Ce0J47dcalLrEC8  \n",
       "3          6.555071      5.537214        5.691357  6tqFC1DIOphJkCwrjVzPmg  \n",
       "4          3.771176      5.348235        5.441765  5bU4KX47KqtDKKaLM4QCzh  \n",
       "...             ...           ...             ...                     ...  \n",
       "90391      5.370000      3.450000        5.330000  7o3Np7cho9cBCrNDokxzYC  \n",
       "90392      6.685000      4.405000        5.625000  4fVObxldDzxxRD6a5Eth9s  \n",
       "90397      4.301667      3.341667        4.466667  5WxwRwUQ4R4L46VEm3213y  \n",
       "90401      5.399583      3.949500        5.190750  0YzMEu5sGNX0JKr9mdBtzd  \n",
       "90407      3.340000      1.405000        3.500000  14BYEOeRb3jzglJmKX8eM2  \n",
       "\n",
       "[61902 rows x 7 columns]>"
      ]
     },
     "execution_count": 41,
     "metadata": {},
     "output_type": "execute_result"
    }
   ],
   "source": [
    "df.head"
   ]
  },
  {
   "cell_type": "code",
   "execution_count": 29,
   "metadata": {},
   "outputs": [
    {
     "data": {
      "text/plain": [
       "<bound method NDFrame.tail of           id                             track                       artist  \\\n",
       "0          0                  'Till I Collapse                       Eminem   \n",
       "1          1                         St. Anger                    Metallica   \n",
       "3          3                      Bamboo Banga                       M.I.A.   \n",
       "4          4                        Die MF Die                         Dope   \n",
       "5          5                           Step Up                Drowning Pool   \n",
       "...      ...                               ...                          ...   \n",
       "90391  90391  The Last of the Rest Was the End                  Medications   \n",
       "90392  90392                         Lovechild                Daniel Lanois   \n",
       "90397  90397                       Last Inhale                       Tapage   \n",
       "90401  90401               the dead flag blues  Godspeed You Black Emperor!   \n",
       "90407  90407                            Unfold             Message To Bears   \n",
       "\n",
       "       valence_tags  arousal_tags  dominance_tags  \\\n",
       "0          4.550000      5.273125        5.690625   \n",
       "1          3.710000      5.833000        5.427250   \n",
       "3          6.555071      5.537214        5.691357   \n",
       "4          3.771176      5.348235        5.441765   \n",
       "5          2.971389      5.537500        4.726389   \n",
       "...             ...           ...             ...   \n",
       "90391      5.370000      3.450000        5.330000   \n",
       "90392      6.685000      4.405000        5.625000   \n",
       "90397      4.301667      3.341667        4.466667   \n",
       "90401      5.399583      3.949500        5.190750   \n",
       "90407      3.340000      1.405000        3.500000   \n",
       "\n",
       "                                       mbid              spotify_id  \n",
       "0      cab93def-26c5-4fb0-bedd-26ec4c1619e1  4xkOaSrkexMciUUogZKVTS  \n",
       "1      727a2529-7ee8-4860-aef6-7959884895cb  3fOc9x06lKJBhz435mInlH  \n",
       "3      99dd2c8c-e7c1-413e-8ea4-4497a00ffa18  6tqFC1DIOphJkCwrjVzPmg  \n",
       "4      b9eb3484-5e0e-4690-ab5a-ca91937032a5  5bU4KX47KqtDKKaLM4QCzh  \n",
       "5      49e7b4d2-3772-4301-ba25-3cc46ceb342e  4Q1w4Ryyi8KNxxaFlOQClK  \n",
       "...                                     ...                     ...  \n",
       "90391  ffd10ae8-858a-4b5e-819e-64f1174bbd42  7o3Np7cho9cBCrNDokxzYC  \n",
       "90392  16c3d394-c4d4-4dc2-bbf1-b2bef3ac861c  4fVObxldDzxxRD6a5Eth9s  \n",
       "90397  b744fdbc-7b4c-49a1-a3d6-99047d82eb34  5WxwRwUQ4R4L46VEm3213y  \n",
       "90401  aacb5132-a952-42f8-bc55-9dee53d20549  0YzMEu5sGNX0JKr9mdBtzd  \n",
       "90407  247179b0-af1f-4c2b-b4fe-751070d1c0cc  14BYEOeRb3jzglJmKX8eM2  \n",
       "\n",
       "[50390 rows x 8 columns]>"
      ]
     },
     "execution_count": 29,
     "metadata": {},
     "output_type": "execute_result"
    }
   ],
   "source": [
    "df.tail"
   ]
  }
 ],
 "metadata": {
  "kernelspec": {
   "display_name": "Python 3",
   "language": "python",
   "name": "python3"
  },
  "language_info": {
   "codemirror_mode": {
    "name": "ipython",
    "version": 3
   },
   "file_extension": ".py",
   "mimetype": "text/x-python",
   "name": "python",
   "nbconvert_exporter": "python",
   "pygments_lexer": "ipython3",
   "version": "3.8.10"
  }
 },
 "nbformat": 4,
 "nbformat_minor": 2
}
